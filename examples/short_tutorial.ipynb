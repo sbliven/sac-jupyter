{
 "cells": [
  {
   "cell_type": "markdown",
   "id": "893d2485-6274-49d7-9005-b4d25c96726c",
   "metadata": {},
   "source": [
    "1. Evaluating Expressions: type an expression then hit `shift-return`; e.g.:"
   ]
  },
  {
   "cell_type": "code",
   "execution_count": 1,
   "id": "5f52782a-face-4eb6-b4ad-169625f2c492",
   "metadata": {},
   "outputs": [
    {
     "name": "stdout",
     "output_type": "stream",
     "text": [
      "Dimension:  1\n",
      "Shape    : < 10>\n",
      "< 0  1  2  3  4  5  6  7  8  9 > \n"
     ]
    }
   ],
   "source": [
    "Array::iota (10)"
   ]
  },
  {
   "cell_type": "markdown",
   "id": "7d51ff7a-9b2f-4d0b-99ac-90256077c913",
   "metadata": {},
   "source": [
    "2. Defining Variables: type `<var> = <expr> ;` then hit `shift-return`; e.g.:"
   ]
  },
  {
   "cell_type": "code",
   "execution_count": 2,
   "id": "e4f9fcd7-f3db-49f2-b200-7b3429d7dba5",
   "metadata": {},
   "outputs": [],
   "source": [
    "v = Array::iota (10);"
   ]
  },
  {
   "cell_type": "markdown",
   "id": "bc8775bd-8f6e-42f4-86c8-21f1a73cc8a8",
   "metadata": {},
   "source": [
    "These variables can be referred to in expressions, e.g.:"
   ]
  },
  {
   "cell_type": "code",
   "execution_count": 3,
   "id": "5ee1a496-c692-45dc-85f7-55c198d077ad",
   "metadata": {},
   "outputs": [
    {
     "name": "stdout",
     "output_type": "stream",
     "text": [
      "Dimension:  1\n",
      "Shape    : < 10>\n",
      "< 1  2  3  4  5  6  7  8  9 10 > \n"
     ]
    }
   ],
   "source": [
    "v Array::+ 1"
   ]
  },
  {
   "cell_type": "markdown",
   "id": "2ded8a3b-741e-4c6a-a223-de36545dd296",
   "metadata": {},
   "source": [
    "3. *Using Modules*: type `use <module name>: all;` then hit `shit-return`; e.g."
   ]
  },
  {
   "cell_type": "code",
   "execution_count": 5,
   "id": "2e8b3be8-1c16-427c-be7c-77dc0b2c116c",
   "metadata": {},
   "outputs": [],
   "source": [
    "use Array:all;"
   ]
  },
  {
   "cell_type": "markdown",
   "id": "027143f4-fc01-47f4-a341-1caf60ae2dfd",
   "metadata": {
    "tags": []
   },
   "source": [
    "Now, you can refer to all functions in that module without specifying the module name, e.g."
   ]
  },
  {
   "cell_type": "code",
   "execution_count": 7,
   "id": "cc8bff2f-0538-409a-9d44-dcabdd12447c",
   "metadata": {},
   "outputs": [
    {
     "name": "stdout",
     "output_type": "stream",
     "text": [
      "Dimension:  1\n",
      "Shape    : <  8>\n",
      "< 0  1  2  3  4  5  6  7 > \n"
     ]
    }
   ],
   "source": [
    "iota (8)"
   ]
  },
  {
   "cell_type": "markdown",
   "id": "4b33c9be-0f20-402f-9e4d-cc851d918145",
   "metadata": {},
   "source": [
    "4. *Defining Functions*: type an entire function definition then hit `shift-return`; e.g.:"
   ]
  },
  {
   "cell_type": "code",
   "execution_count": 8,
   "id": "426ebc1b-bc62-4e47-aa54-f9e6d61b276e",
   "metadata": {},
   "outputs": [],
   "source": [
    "int[*] inc (int[*] a)\n",
    "{\n",
    "   res = { iv -> a[iv] +1 };\n",
    "   return res;\n",
    "}"
   ]
  },
  {
   "cell_type": "markdown",
   "id": "f24e8f6e-4378-42c4-a6bb-7dece29b9b27",
   "metadata": {},
   "source": [
    "Now, you can use this function in expressions as well, e.g.:"
   ]
  },
  {
   "cell_type": "code",
   "execution_count": 9,
   "id": "f43d700a-a888-4420-8c3b-93fe0037a1f5",
   "metadata": {},
   "outputs": [
    {
     "name": "stdout",
     "output_type": "stream",
     "text": [
      "Dimension:  1\n",
      "Shape    : <  8>\n",
      "< 1  2  3  4  5  6  7  8 > \n"
     ]
    }
   ],
   "source": [
    "inc (iota (8))"
   ]
  },
  {
   "cell_type": "markdown",
   "id": "c1821ad2-ec90-43a0-ae97-ba394e929683",
   "metadata": {},
   "source": [
    "You can inspect your code by using `%print` and find further options through `%help`."
   ]
  },
  {
   "cell_type": "code",
   "execution_count": 10,
   "id": "233a5268-afca-4aa6-aa27-4e0c0fade5be",
   "metadata": {},
   "outputs": [
    {
     "name": "stdout",
     "output_type": "stream",
     "text": [
      "// use/import/typedef\n",
      "use Array:all;\n",
      "\n",
      "// functions\n",
      "int[*] inc (int[*] a)\n",
      "{\n",
      "   res = { iv -> a[iv] +1 };\n",
      "   return res;\n",
      "}\n",
      "\n",
      "// main function with stmt.\n",
      "int main () {\n",
      "    v = Array::iota (10);StdIO::print (/* Placeholder.  */ 0\n",
      "\n",
      ");\n",
      "    return 0;\n",
      "}\n"
     ]
    }
   ],
   "source": [
    "%print"
   ]
  },
  {
   "cell_type": "markdown",
   "id": "156018e2-a9a8-42bd-9cf3-39cbdd888ef8",
   "metadata": {},
   "source": [
    "Navigate to the code cells, run and modify them at will."
   ]
  },
  {
   "cell_type": "code",
   "execution_count": null,
   "id": "def0769a-5002-44d9-abce-32d70a699c93",
   "metadata": {},
   "outputs": [],
   "source": []
  }
 ],
 "metadata": {
  "kernelspec": {
   "display_name": "SaC",
   "language": "sac",
   "name": "sac"
  },
  "language_info": {
   "file_extension": ".sac",
   "mimetype": "text/plain",
   "name": "sac"
  }
 },
 "nbformat": 4,
 "nbformat_minor": 5
}
