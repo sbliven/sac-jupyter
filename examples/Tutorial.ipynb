{
 "cells": [
  {
   "cell_type": "markdown",
   "id": "2e90354d-aa24-46bc-9c89-d3a356504ac4",
   "metadata": {},
   "source": [
    "#  Part I. Trails Covering the Basics of SaC \n",
    "\n",
    "This notebook adapts the [SaC Tutorial](https://sac-home.org/docs:tutorial) for jupyter use. See the original tutorial for command-line examples, or the [tutorial Source Files](https://github.com/SacBase/Tutorial) for runnable code.\n"
   ]
  },
  {
   "cell_type": "markdown",
   "id": "8242b0ef-a0b0-4893-880b-578f62517d4f",
   "metadata": {},
   "source": [
    "## Chapter 1. Running with Jupyter\n",
    "\n",
    "### Comparing jupyter with compilation\n",
    "A complete SaC program consists of a series of statements and a `main` function providing the entrypoint to execution. For instance, to run the \"hello world\" program in SaC you would save the following as \"world.sac\" and then compile it using `sac2c world.sac`.\n",
    "\n",
    "```\n",
    "use StdIO: all;\n",
    "use Array: all;\n",
    "\n",
    "int main()\n",
    "{\n",
    "  printf(\"Hello World!\\n\");\n",
    "  return 0;\n",
    "} \n",
    "```\n",
    "\n",
    "Jupyter notebooks encapsulate that process behind the hood. Every time a cell is executed, the code gets compile, executed, and any results are printed.\n",
    "\n",
    "Cells can consist of single expressions. Expressions are things that evaluate to a value, like arithmetic expressions or non-void function calls. The result of the expression is printed:"
   ]
  },
  {
   "cell_type": "code",
   "execution_count": 1,
   "id": "22331e21-c6b4-44a4-a5d4-fc467351f6eb",
   "metadata": {},
   "outputs": [
    {
     "name": "stdout",
     "output_type": "stream",
     "text": [
      "Dimension:  0\n",
      "Shape    : < >\n",
      " Hello World!\n"
     ]
    }
   ],
   "source": [
    "\"Hello World!\""
   ]
  },
  {
   "cell_type": "markdown",
   "id": "df0fde80-b2b4-4886-ae6a-8d39c241b829",
   "metadata": {},
   "source": [
    "Cells can also contain lists of statements. Statements do not evaluate to a value, and include variable assignments or void function calls. Statements must end with a semicolon. Statements cannot be combined with expressions, so they do not print results unless using a print statement."
   ]
  },
  {
   "cell_type": "code",
   "execution_count": 2,
   "id": "053a270f-4faa-4f2d-80f0-4a86e80d1431",
   "metadata": {},
   "outputs": [],
   "source": [
    "greeting = \"Hello World!\";"
   ]
  },
  {
   "cell_type": "code",
   "execution_count": 3,
   "id": "3c69eb11-3f2b-4d1c-9499-7e118f88af3e",
   "metadata": {},
   "outputs": [
    {
     "name": "stdout",
     "output_type": "stream",
     "text": [
      "Dimension:  0\n",
      "Shape    : < >\n",
      " Hello World!\n"
     ]
    }
   ],
   "source": [
    "greeting"
   ]
  },
  {
   "cell_type": "markdown",
   "id": "8376d11b-b962-4085-a003-f1e45a4eb6d4",
   "metadata": {},
   "source": [
    "### Side effects in Jupyter\n",
    "\n",
    "Since SaC does not include an interpreter, when a cell gets executed it's code is appended to all previously-run statements, compiled, and executed. This means that code from previous cells with side-effects (`printf`, for example) will execute a second time. If this is undesirable, restarting the kernel clears any previously executed code.\n",
    "\n",
    "If you need to see what code is being compiled behind the scenes, the `%print` cell magic will show the actual code being executed."
   ]
  },
  {
   "cell_type": "code",
   "execution_count": 4,
   "id": "a350f291-dff0-452d-a81b-b9b34083a059",
   "metadata": {},
   "outputs": [
    {
     "name": "stdout",
     "output_type": "stream",
     "text": [
      "// use/import/typedef\n",
      "\n",
      "\n",
      "// functions\n",
      "\n",
      "\n",
      "// main function with stmt.\n",
      "int main () {\n",
      "    greeting = \"Hello World!\";StdIO::print (/* Placeholder.  */ 0\n",
      "\n",
      ");\n",
      "    return 0;\n",
      "}\n"
     ]
    }
   ],
   "source": [
    "%print "
   ]
  },
  {
   "cell_type": "markdown",
   "id": "be578122-02ab-49b2-bfc8-79b31542f447",
   "metadata": {},
   "source": [
    "## Chapter 2. Array Programming Basics\n",
    "\n",
    "This chapter gives an introduction to the basic concepts of array programming in SaC. It consists of two lessons: *Arrays as Data* and *Shape-Invariant Programming*. In the former lesson, the major differences between arrays in SaC and arrays in more mainstream languages are explained. The lesson *Shape-Invariant Programming* gives an introduction into the most important array operations available in SaC. Based on these operations, several small examples demonstrate how more complex array operations can be constructed by simply combining the basic ones."
   ]
  },
  {
   "cell_type": "markdown",
   "id": "bcf3bdf8-2adc-462f-ada4-c6771edd908a",
   "metadata": {},
   "source": [
    "### Lesson 1: Arrays as Data\n",
    "\n",
    "In SaC, arrays are the only data structures available. Even scalar values are considered arrays. Each array is represented by two vectors, a so-called *shape vector* and a &data vector*. An array’s shape vector defines its *shape*, i.e. its extent within each axis, and its *dimensionality* (or *rank*), which is given implicitly by the shape vector’s length.\n",
    "\n",
    "The section on *Defining Arrays* explains how arrays of various dimensionality can be defined in SaC, and how they can be generated via nesting. Furthermore, some elementary notation such as *scalars*, *vectors*, and *matrices* is defined.\n",
    "\n",
    "The section on *Arrays and Variables* discusses the purely functional array model used in SaC."
   ]
  },
  {
   "cell_type": "markdown",
   "id": "a1d1dbbc-f972-4049-bdf7-b1ca1cca8b9d",
   "metadata": {},
   "source": [
    "#### Defining Arrays\n",
    "\n",
    "In this section, several means for specifying arrays are explained.\n",
    "\n",
    "In principle, all arrays in SaC can be defined by using the reshape operation. `reshape` expects two operands, a shape vector and a data vector, both of which are specified as comma separated lists of numbers enclosed in square brackets."
   ]
  },
  {
   "cell_type": "code",
   "execution_count": 5,
   "id": "c24800ee-3deb-4380-bf84-33b944f56aea",
   "metadata": {},
   "outputs": [],
   "source": [
    "use StdIO: all;"
   ]
  },
  {
   "cell_type": "code",
   "execution_count": 6,
   "id": "74d30652-7e81-4c96-a0a9-f93f5b37de11",
   "metadata": {},
   "outputs": [],
   "source": [
    "use Array: all; "
   ]
  },
  {
   "cell_type": "code",
   "execution_count": 7,
   "id": "5761c2b0-b6c4-4475-b728-67a72ee9f7ed",
   "metadata": {},
   "outputs": [
    {
     "name": "stdout",
     "output_type": "stream",
     "text": [
      "Dimension:  1\n",
      "Shape    : <  5>\n",
      "< 1  2  3  4  5 > \n"
     ]
    }
   ],
   "source": [
    "reshape([5], [1,2,3,4,5])"
   ]
  },
  {
   "cell_type": "code",
   "execution_count": 8,
   "id": "3725da8e-7607-4837-9197-d082393a2285",
   "metadata": {},
   "outputs": [
    {
     "name": "stdout",
     "output_type": "stream",
     "text": [
      "Dimension:  2\n",
      "Shape    : <  3,  2>\n",
      "| 1  2 | \n",
      "| 3  4 | \n",
      "| 5  6 | \n",
      "\n"
     ]
    }
   ],
   "source": [
    "reshape([3,2], [1,2,3,4,5,6])"
   ]
  },
  {
   "cell_type": "code",
   "execution_count": 9,
   "id": "207aa662-ea15-49a3-9c68-33ef53832b86",
   "metadata": {},
   "outputs": [
    {
     "name": "stdout",
     "output_type": "stream",
     "text": [
      "Dimension:  3\n",
      "Shape    : <  3,  2,  1>\n",
      "< 1 > < 2 > \n",
      "< 3 > < 4 > \n",
      "< 5 > < 6 > \n",
      "\n"
     ]
    }
   ],
   "source": [
    "reshape([3,2,1], [1,2,3,4,5,6])"
   ]
  },
  {
   "cell_type": "markdown",
   "id": "724daf09-dc95-4549-8339-83a60d6325fb",
   "metadata": {},
   "source": [
    "Besides printing its argument’s dimensionality and shape, i.e. its shape vector, a more intuitive representation of the array’s data vector is shown. However, as the terminal allows for 2 dimensions only, arrays of higher dimensionality are interpreted as nestings of 2-dimensional arrays. Therefore, the 3-dimensional array is printed as a 2-dimensional array of vectors."
   ]
  },
  {
   "cell_type": "markdown",
   "id": "19bce113-78f5-47b8-b4a3-9834d366bc63",
   "metadata": {},
   "source": [
    "> **Exercise 1.** In all these examples, the product of the shape vector matches the length of the data vector. What do you expect to happen, if this condition does not hold?"
   ]
  },
  {
   "cell_type": "markdown",
   "id": "e59d4449-e673-4471-9023-c0efaf941494",
   "metadata": {},
   "source": [
    "For reasons of convenience, we use the following terminology:\n",
    "\n",
    "|Term  |Definition|\n",
    "|------|----------|\n",
    "|scalar|always denotes an array of dimensionality 0|\n",
    "|vector|always denotes an array of dimensionality 1|\n",
    "|matrix|always denotes an array of dimensionality 2|\n",
    "\n",
    "As all arrays can be defined in terms of reshape, the following are also perfectly legal:"
   ]
  },
  {
   "cell_type": "code",
   "execution_count": 10,
   "id": "f2131d18-6afb-4904-81bf-3ed6149b28b0",
   "metadata": {},
   "outputs": [
    {
     "name": "stdout",
     "output_type": "stream",
     "text": [
      "Dimension:  1\n",
      "Shape    : <  1>\n",
      "< 1 > \n"
     ]
    }
   ],
   "source": [
    "reshape([1], [1])"
   ]
  },
  {
   "cell_type": "code",
   "execution_count": 11,
   "id": "146d310c-6816-45b9-b6d0-e68ec9940ad3",
   "metadata": {},
   "outputs": [
    {
     "name": "stdout",
     "output_type": "stream",
     "text": [
      "Dimension:  0\n",
      "Shape    : < >\n",
      " 1\n"
     ]
    }
   ],
   "source": [
    "reshape([], [1])"
   ]
  },
  {
   "cell_type": "markdown",
   "id": "4ce76926-9b8f-46b2-9c73-cdb5186530fc",
   "metadata": {},
   "source": [
    "The most interesting aspect of this program is the array defined in line 7. The empty shape vector makes it a 0-dimensional array, i.e. a scalar. The data vector carries the scalar’s value, which, in this example, is 1."
   ]
  },
  {
   "cell_type": "markdown",
   "id": "de2cc5b4-7122-471a-a3fe-b79bd81635ba",
   "metadata": {},
   "source": [
    "> **Exercise 2.** The arguments of reshape are vectors, i.e. arrays of dimensionality 1. Can they be specified by e expressions themselves?"
   ]
  },
  {
   "cell_type": "code",
   "execution_count": null,
   "id": "0521ca10-7470-46df-b575-e4834ebd388c",
   "metadata": {},
   "outputs": [],
   "source": []
  },
  {
   "cell_type": "markdown",
   "id": "da6d3ced-d125-4575-8705-0331a888d163",
   "metadata": {},
   "source": [
    "The reshape notation is relatively clumsy, in particular, when being used for scalars. Therefore, scalars and vectors can alternatively be specified by shortcut notations as well."
   ]
  },
  {
   "cell_type": "code",
   "execution_count": 12,
   "id": "8c8dda87-8eed-4539-b257-9eb3703f71c3",
   "metadata": {},
   "outputs": [
    {
     "name": "stdout",
     "output_type": "stream",
     "text": [
      "Dimension:  0\n",
      "Shape    : < >\n",
      " 1\n"
     ]
    }
   ],
   "source": [
    "1"
   ]
  },
  {
   "cell_type": "code",
   "execution_count": 13,
   "id": "ec6e583b-dbfb-45bb-a615-d9720811d5d3",
   "metadata": {},
   "outputs": [
    {
     "name": "stdout",
     "output_type": "stream",
     "text": [
      "Dimension:  1\n",
      "Shape    : <  5>\n",
      "< 1  2  3  4  5 > \n"
     ]
    }
   ],
   "source": [
    "[1,2,3,4,5]"
   ]
  },
  {
   "cell_type": "code",
   "execution_count": 14,
   "id": "fb391f8d-3df9-4a04-a118-af22cdec0486",
   "metadata": {},
   "outputs": [
    {
     "name": "stdout",
     "output_type": "stream",
     "text": [
      "Dimension:  2\n",
      "Shape    : <  3,  2>\n",
      "| 1  2 | \n",
      "| 3  4 | \n",
      "| 5  6 | \n",
      "\n"
     ]
    }
   ],
   "source": [
    "[[1,2], [3,4], [5,6]]"
   ]
  },
  {
   "cell_type": "code",
   "execution_count": 15,
   "id": "3422f44c-c758-4b49-b4bc-bc928a09de3e",
   "metadata": {},
   "outputs": [
    {
     "name": "stdout",
     "output_type": "stream",
     "text": [
      "Dimension:  3\n",
      "Shape    : <  4,  3,  2>\n",
      "< 1  1 > < 1  1 > < 1  1 > \n",
      "< 1  1 > < 1  1 > < 1  1 > \n",
      "< 1  1 > < 1  1 > < 1  1 > \n",
      "< 1  1 > < 1  1 > < 1  1 > \n",
      "\n"
     ]
    }
   ],
   "source": [
    "genarray([4,3,2], 1)"
   ]
  },
  {
   "cell_type": "code",
   "execution_count": 16,
   "id": "a87b0213-0fab-49df-82ad-162d649c708c",
   "metadata": {},
   "outputs": [
    {
     "name": "stdout",
     "output_type": "stream",
     "text": [
      "Dimension:  3\n",
      "Shape    : <  4,  3,  2>\n",
      "< 1  2 > < 1  2 > < 1  2 > \n",
      "< 1  2 > < 1  2 > < 1  2 > \n",
      "< 1  2 > < 1  2 > < 1  2 > \n",
      "< 1  2 > < 1  2 > < 1  2 > \n",
      "\n"
     ]
    }
   ],
   "source": [
    "genarray([4,3], [1,2])"
   ]
  },
  {
   "cell_type": "markdown",
   "id": "cec30d94-980e-4f76-b071-a4f345a3d34d",
   "metadata": {},
   "source": [
    "From these examples, we can see that scalars can be used in the same way as in most programming languages, and that the notation used for the parameters of reshape in the examples above in fact is a standard abbreviation of SaC. The matrix example shows that nestings of arrays are implicitly eliminated, i.e. the resulting array is identical to:"
   ]
  },
  {
   "cell_type": "code",
   "execution_count": 17,
   "id": "8bc3d298-4ac9-4ed6-ab96-084362c903d8",
   "metadata": {},
   "outputs": [
    {
     "name": "stdout",
     "output_type": "stream",
     "text": [
      "Dimension:  2\n",
      "Shape    : <  3,  2>\n",
      "| 1  2 | \n",
      "| 3  4 | \n",
      "| 5  6 | \n",
      "\n"
     ]
    }
   ],
   "source": [
    "reshape([3,2], [1,2,3,4,5,6])"
   ]
  },
  {
   "cell_type": "markdown",
   "id": "837fae0b-75ad-49de-be18-6ddf60132be6",
   "metadata": {},
   "source": [
    "For this reason, array nestings in SaC always have to be *homogeneous*, i.e. the inner array components have to have identical shapes.\n",
    "\n",
    "Furthermore, a new function is introduced: genarray. It expects two arguments, a shape vector that defines the shape of the result and a default element to be inserted at each position of the result. As shown in the example of line 10, the individual array elements can be non-scalar arrays as well, which implicitly extends the dimensionality of the result array.\n"
   ]
  },
  {
   "cell_type": "markdown",
   "id": "5cb303e7-2a51-4f01-97ab-2dbf403db097",
   "metadata": {},
   "source": [
    "> **Exercise 3.** Given the language constructs introduced so far, can you define an array that would print as\n",
    ">\n",
    ">     Dimension:  3\n",
    ">     Shape    : <  5,  2,  2>\n",
    ">     < 0  0 > < 0  0 >\n",
    ">     < 1  0 > < 0  0 >\n",
    ">     < 0  1 > < 0  0 >\n",
    ">     < 0  0 > < 1  0 >\n",
    ">     < 0  0 > < 0  1 >\n",
    ">\n",
    ">\n",
    "> but whose definition does not contain the symbol ‘1’ more than once?\n"
   ]
  },
  {
   "cell_type": "code",
   "execution_count": null,
   "id": "eb1b5a25-a74f-4171-8ba8-0690950f8ba2",
   "metadata": {},
   "outputs": [],
   "source": []
  },
  {
   "cell_type": "markdown",
   "id": "24124def-261f-4227-958f-946e0307d0b4",
   "metadata": {},
   "source": [
    "#### Arrays and Variables\n",
    "\n",
    "This section explains why in SaC arrays are data and not containers for values as found in most other languages.\n",
    "\n",
    "So far, all examples were expression based, i.e. we did not use any variables. Traditionally, there are two different ways of introducing variables. In conventional (imperative) languages such as C, variables denote memory locations which hold values that may change during computation. In functional languages, similar to mathematics, variables are considered place holders for values. As a consequence, a variable’s value can never change. Although this difference may seem rather subtle at first glance, it has quite some effects when operations on large data structures (in our case: large arrays) are involved.\n",
    "\n",
    "Let’s have a look at an example:\n"
   ]
  },
  {
   "cell_type": "code",
   "execution_count": 18,
   "id": "37b8f4d3-3038-45cd-b275-f11bad48f983",
   "metadata": {},
   "outputs": [],
   "source": [
    "a = [1,2,3,4];"
   ]
  },
  {
   "cell_type": "code",
   "execution_count": 19,
   "id": "a341cf38-87e2-4ef0-86bf-bf06c66e2a5d",
   "metadata": {},
   "outputs": [
    {
     "name": "stdout",
     "output_type": "stream",
     "text": [
      "Dimension:  1\n",
      "Shape    : <  4>\n",
      "< 1  2  3  4 > \n"
     ]
    }
   ],
   "source": [
    "a"
   ]
  },
  {
   "cell_type": "code",
   "execution_count": 20,
   "id": "dcd761b8-ea5c-49eb-b079-d5a27087857c",
   "metadata": {},
   "outputs": [],
   "source": [
    "b = modarray(a, [0], 9);"
   ]
  },
  {
   "cell_type": "code",
   "execution_count": 21,
   "id": "16443dec-f079-4de2-85d1-628e9cd22dba",
   "metadata": {},
   "outputs": [
    {
     "name": "stdout",
     "output_type": "stream",
     "text": [
      "Dimension:  1\n",
      "Shape    : <  4>\n",
      "< 9  2  3  4 > \n"
     ]
    }
   ],
   "source": [
    "b"
   ]
  },
  {
   "cell_type": "markdown",
   "id": "45d2386f-a3c3-401b-bea8-df85f5434a05",
   "metadata": {},
   "source": [
    "The function modarray expects three arguments: an array to be \"modified\", an index that indicates the exact position within the array to be \"modified\", and the value that is to be inserted at the specified position. As we would expect, the resulting array b is almost identical to a, only the very first element has changed into 9.\n",
    "\n",
    "**Note here, that indexing in SaC always starts with index 0!**\n",
    "\n",
    "Referring to the container / place holder discussion, the crucial question is: does the variable `a` denote a container, whose value is changed by modarray? If this would be the case, `a` and `b` would share the same container, and every access to `a` after the `modarray` call would yield [9,2,3,4]. If `a` in fact is a place holder, it will always denote the array [1,2,3,4], no matter what functions have obtained a as an argument.\n",
    "\n",
    "To answer this question, you may simply check the value of `a` again. As you can see, in SaC, variables are indeed place holders."
   ]
  },
  {
   "cell_type": "code",
   "execution_count": 22,
   "id": "1fca3390-a491-453b-bf44-a52130a39ee5",
   "metadata": {},
   "outputs": [
    {
     "name": "stdout",
     "output_type": "stream",
     "text": [
      "Dimension:  1\n",
      "Shape    : <  4>\n",
      "< 1  2  3  4 > \n"
     ]
    }
   ],
   "source": [
    "a"
   ]
  },
  {
   "cell_type": "markdown",
   "id": "722bdc4a-5b32-400c-be72-818659ef2f75",
   "metadata": {},
   "source": [
    "\n",
    "\n",
    "***A note for efficiency freaks:** You may wonder whether this implies that modarray always copies the entire array. In fact, it only copies `a` if the place-holder property would be violated otherwise.*\n"
   ]
  },
  {
   "cell_type": "markdown",
   "id": "ec439af8-afff-4391-91bc-f34321cfd502",
   "metadata": {},
   "source": [
    "As a result of this place-holder property, it is guaranteed that no function call can affect the value of its arguments. In other words, the underlying concept *guarantees*, that all functions are \"pure\". Although this helps in avoiding nasty errors due to non-intended side-effects, it sometimes seems to be an annoyance to always invent new variable names, in particular, if arrays are to be modified successively.\n",
    "\n",
    "To cope with this problem, in SaC, variables do have a so-called scope, i.e. each variable definition is associated with a well-defined portion of program code where its definition is valid. In a sequence of variable definitions, the scope of a variable starts with the left-hand side of the subsequent variable definition and either reaches down to the end of the function, or, provided at least one further definition of a variable with the same name exists, to the right-hand side of the next such definition. This measure allows us to reuse variable names. A slight modification of our example demonstrates the effect of variable scopes in SaC:\n"
   ]
  },
  {
   "cell_type": "code",
   "execution_count": 23,
   "id": "9204245e-041c-4639-807a-25da820b7747",
   "metadata": {},
   "outputs": [],
   "source": [
    "a = [1,2,3,4];            /* Line 1 */\n",
    "b = modarray(a, [0], 9);  /* Line 2 */"
   ]
  },
  {
   "cell_type": "code",
   "execution_count": 24,
   "id": "8f9761a5-1dda-48d1-93d7-e044fb161d5c",
   "metadata": {},
   "outputs": [
    {
     "name": "stdout",
     "output_type": "stream",
     "text": [
      "Dimension:  1\n",
      "Shape    : <  4>\n",
      "< 1  2  3  4 > \n"
     ]
    }
   ],
   "source": [
    "a"
   ]
  },
  {
   "cell_type": "code",
   "execution_count": 25,
   "id": "0f534b67-1752-45b8-9ec0-43b5acf25a65",
   "metadata": {},
   "outputs": [],
   "source": [
    "a = b;                    /* Line 3 */"
   ]
  },
  {
   "cell_type": "code",
   "execution_count": 26,
   "id": "68ce1915-763b-4475-8749-bb284d6b5978",
   "metadata": {},
   "outputs": [
    {
     "name": "stdout",
     "output_type": "stream",
     "text": [
      "Dimension:  1\n",
      "Shape    : <  4>\n",
      "< 9  2  3  4 > \n"
     ]
    }
   ],
   "source": [
    "a"
   ]
  },
  {
   "cell_type": "code",
   "execution_count": 27,
   "id": "1cc2b41a-a27d-46eb-b77b-3d9872e6b2b3",
   "metadata": {},
   "outputs": [],
   "source": [
    "a = modarray(a, [1], 8);  /* Line 4 */"
   ]
  },
  {
   "cell_type": "code",
   "execution_count": 28,
   "id": "ceea05cb-c22d-4dc7-ad24-b66692d724e8",
   "metadata": {},
   "outputs": [
    {
     "name": "stdout",
     "output_type": "stream",
     "text": [
      "Dimension:  1\n",
      "Shape    : <  4>\n",
      "< 9  8  3  4 > \n"
     ]
    }
   ],
   "source": [
    "a"
   ]
  },
  {
   "cell_type": "markdown",
   "id": "2a50f696-753b-4f6f-b95b-fe1f6928fe1e",
   "metadata": {
    "tags": []
   },
   "source": [
    "Here, the use of `a` on the right-hand side of the assignment (line 3) still refers to the previous value, whereas the use on the right of line 4 refers to the new definition.\n",
    "\n",
    "The definition in line 4 shows how variable scopes can be used to specify code that looks very much \"imperative\". However, you should always keep in mind that in SaC, the place-holder property *always* holds!"
   ]
  },
  {
   "cell_type": "markdown",
   "id": "d4ac73ff-2d74-4826-936f-0356ef67808a",
   "metadata": {},
   "source": [
    "> **Exercise 4.** \n",
    "> What result do you expect from the following SaC program?\n",
    "> ```\n",
    "> use StdIO: all;\n",
    "> use Array: all;\n",
    "> \n",
    "> int main()\n",
    "> {\n",
    ">   a = [1,2,3,4];\n",
    ">   b = [a,a];\n",
    "> \n",
    ">   a = modarray(modarray(a, [0], 0), [1], 0);\n",
    ">   b = modarray(b, [0], a);\n",
    ">   print(b);\n",
    "> \n",
    ">   return 0;\n",
    "> } \n",
    "> ```"
   ]
  },
  {
   "cell_type": "code",
   "execution_count": null,
   "id": "29e2a47f-8aea-487f-be1d-991417174173",
   "metadata": {},
   "outputs": [],
   "source": []
  },
  {
   "cell_type": "markdown",
   "id": "d9e4e8b3-2be9-4ba1-8203-de731c1d226e",
   "metadata": {},
   "source": [
    "### Lesson 2: Shape-Invariant Programming"
   ]
  },
  {
   "cell_type": "code",
   "execution_count": null,
   "id": "9f704be2-0d4f-444d-bc47-21ccd2b16bff",
   "metadata": {},
   "outputs": [],
   "source": []
  }
 ],
 "metadata": {
  "kernelspec": {
   "display_name": "SaC",
   "language": "sac",
   "name": "sac"
  },
  "language_info": {
   "file_extension": ".sac",
   "mimetype": "text/plain",
   "name": "sac"
  },
  "toc-autonumbering": true
 },
 "nbformat": 4,
 "nbformat_minor": 5
}
